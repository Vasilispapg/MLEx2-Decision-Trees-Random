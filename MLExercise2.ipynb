{
 "cells": [
  {
   "cell_type": "markdown",
   "metadata": {},
   "source": [
    "# Exercise 2 - Random Forests\n",
    "\n",
    "*Author: Papagrigoriou Vasileios Savvas*"
   ]
  },
  {
   "cell_type": "code",
   "execution_count": 2,
   "metadata": {},
   "outputs": [],
   "source": [
    "import pandas as pd\n",
    "import numpy as np\n",
    "\n",
    "from sklearn.tree import DecisionTreeClassifier\n",
    "from sklearn.ensemble import RandomForestClassifier\n",
    "from sklearn.model_selection import train_test_split\n",
    "from sklearn.metrics import accuracy_score\n",
    "from sklearn import tree\n",
    "\n",
    "from tabulate import tabulate\n",
    "\n",
    "import matplotlib.pyplot as plt\n",
    "%matplotlib inline"
   ]
  },
  {
   "cell_type": "markdown",
   "metadata": {},
   "source": [
    "# Decision Tree Model"
   ]
  },
  {
   "cell_type": "markdown",
   "metadata": {},
   "source": [
    "Read data from csv"
   ]
  },
  {
   "cell_type": "code",
   "execution_count": 3,
   "metadata": {},
   "outputs": [],
   "source": [
    "df = pd.read_csv('breast_cancer.csv')"
   ]
  },
  {
   "cell_type": "code",
   "execution_count": 235,
   "metadata": {},
   "outputs": [
    {
     "data": {
      "text/html": [
       "<div>\n",
       "<style scoped>\n",
       "    .dataframe tbody tr th:only-of-type {\n",
       "        vertical-align: middle;\n",
       "    }\n",
       "\n",
       "    .dataframe tbody tr th {\n",
       "        vertical-align: top;\n",
       "    }\n",
       "\n",
       "    .dataframe thead th {\n",
       "        text-align: right;\n",
       "    }\n",
       "</style>\n",
       "<table border=\"1\" class=\"dataframe\">\n",
       "  <thead>\n",
       "    <tr style=\"text-align: right;\">\n",
       "      <th></th>\n",
       "      <th>diagnosis</th>\n",
       "      <th>radius_mean</th>\n",
       "      <th>texture_mean</th>\n",
       "      <th>perimeter_mean</th>\n",
       "      <th>area_mean</th>\n",
       "      <th>smoothness_mean</th>\n",
       "      <th>compactness_mean</th>\n",
       "      <th>concavity_mean</th>\n",
       "      <th>concave points_mean</th>\n",
       "      <th>symmetry_mean</th>\n",
       "      <th>...</th>\n",
       "      <th>radius_worst</th>\n",
       "      <th>texture_worst</th>\n",
       "      <th>perimeter_worst</th>\n",
       "      <th>area_worst</th>\n",
       "      <th>smoothness_worst</th>\n",
       "      <th>compactness_worst</th>\n",
       "      <th>concavity_worst</th>\n",
       "      <th>concave points_worst</th>\n",
       "      <th>symmetry_worst</th>\n",
       "      <th>fractal_dimension_worst</th>\n",
       "    </tr>\n",
       "  </thead>\n",
       "  <tbody>\n",
       "    <tr>\n",
       "      <th>0</th>\n",
       "      <td>M</td>\n",
       "      <td>17.99</td>\n",
       "      <td>10.38</td>\n",
       "      <td>122.80</td>\n",
       "      <td>1001.0</td>\n",
       "      <td>0.11840</td>\n",
       "      <td>0.27760</td>\n",
       "      <td>0.3001</td>\n",
       "      <td>0.14710</td>\n",
       "      <td>0.2419</td>\n",
       "      <td>...</td>\n",
       "      <td>25.38</td>\n",
       "      <td>17.33</td>\n",
       "      <td>184.60</td>\n",
       "      <td>2019.0</td>\n",
       "      <td>0.1622</td>\n",
       "      <td>0.6656</td>\n",
       "      <td>0.7119</td>\n",
       "      <td>0.2654</td>\n",
       "      <td>0.4601</td>\n",
       "      <td>0.11890</td>\n",
       "    </tr>\n",
       "    <tr>\n",
       "      <th>1</th>\n",
       "      <td>M</td>\n",
       "      <td>20.57</td>\n",
       "      <td>17.77</td>\n",
       "      <td>132.90</td>\n",
       "      <td>1326.0</td>\n",
       "      <td>0.08474</td>\n",
       "      <td>0.07864</td>\n",
       "      <td>0.0869</td>\n",
       "      <td>0.07017</td>\n",
       "      <td>0.1812</td>\n",
       "      <td>...</td>\n",
       "      <td>24.99</td>\n",
       "      <td>23.41</td>\n",
       "      <td>158.80</td>\n",
       "      <td>1956.0</td>\n",
       "      <td>0.1238</td>\n",
       "      <td>0.1866</td>\n",
       "      <td>0.2416</td>\n",
       "      <td>0.1860</td>\n",
       "      <td>0.2750</td>\n",
       "      <td>0.08902</td>\n",
       "    </tr>\n",
       "    <tr>\n",
       "      <th>2</th>\n",
       "      <td>M</td>\n",
       "      <td>19.69</td>\n",
       "      <td>21.25</td>\n",
       "      <td>130.00</td>\n",
       "      <td>1203.0</td>\n",
       "      <td>0.10960</td>\n",
       "      <td>0.15990</td>\n",
       "      <td>0.1974</td>\n",
       "      <td>0.12790</td>\n",
       "      <td>0.2069</td>\n",
       "      <td>...</td>\n",
       "      <td>23.57</td>\n",
       "      <td>25.53</td>\n",
       "      <td>152.50</td>\n",
       "      <td>1709.0</td>\n",
       "      <td>0.1444</td>\n",
       "      <td>0.4245</td>\n",
       "      <td>0.4504</td>\n",
       "      <td>0.2430</td>\n",
       "      <td>0.3613</td>\n",
       "      <td>0.08758</td>\n",
       "    </tr>\n",
       "    <tr>\n",
       "      <th>3</th>\n",
       "      <td>M</td>\n",
       "      <td>11.42</td>\n",
       "      <td>20.38</td>\n",
       "      <td>77.58</td>\n",
       "      <td>386.1</td>\n",
       "      <td>0.14250</td>\n",
       "      <td>0.28390</td>\n",
       "      <td>0.2414</td>\n",
       "      <td>0.10520</td>\n",
       "      <td>0.2597</td>\n",
       "      <td>...</td>\n",
       "      <td>14.91</td>\n",
       "      <td>26.50</td>\n",
       "      <td>98.87</td>\n",
       "      <td>567.7</td>\n",
       "      <td>0.2098</td>\n",
       "      <td>0.8663</td>\n",
       "      <td>0.6869</td>\n",
       "      <td>0.2575</td>\n",
       "      <td>0.6638</td>\n",
       "      <td>0.17300</td>\n",
       "    </tr>\n",
       "    <tr>\n",
       "      <th>4</th>\n",
       "      <td>M</td>\n",
       "      <td>20.29</td>\n",
       "      <td>14.34</td>\n",
       "      <td>135.10</td>\n",
       "      <td>1297.0</td>\n",
       "      <td>0.10030</td>\n",
       "      <td>0.13280</td>\n",
       "      <td>0.1980</td>\n",
       "      <td>0.10430</td>\n",
       "      <td>0.1809</td>\n",
       "      <td>...</td>\n",
       "      <td>22.54</td>\n",
       "      <td>16.67</td>\n",
       "      <td>152.20</td>\n",
       "      <td>1575.0</td>\n",
       "      <td>0.1374</td>\n",
       "      <td>0.2050</td>\n",
       "      <td>0.4000</td>\n",
       "      <td>0.1625</td>\n",
       "      <td>0.2364</td>\n",
       "      <td>0.07678</td>\n",
       "    </tr>\n",
       "  </tbody>\n",
       "</table>\n",
       "<p>5 rows × 31 columns</p>\n",
       "</div>"
      ],
      "text/plain": [
       "  diagnosis  radius_mean  texture_mean  perimeter_mean  area_mean   \n",
       "0         M        17.99         10.38          122.80     1001.0  \\\n",
       "1         M        20.57         17.77          132.90     1326.0   \n",
       "2         M        19.69         21.25          130.00     1203.0   \n",
       "3         M        11.42         20.38           77.58      386.1   \n",
       "4         M        20.29         14.34          135.10     1297.0   \n",
       "\n",
       "   smoothness_mean  compactness_mean  concavity_mean  concave points_mean   \n",
       "0          0.11840           0.27760          0.3001              0.14710  \\\n",
       "1          0.08474           0.07864          0.0869              0.07017   \n",
       "2          0.10960           0.15990          0.1974              0.12790   \n",
       "3          0.14250           0.28390          0.2414              0.10520   \n",
       "4          0.10030           0.13280          0.1980              0.10430   \n",
       "\n",
       "   symmetry_mean  ...  radius_worst  texture_worst  perimeter_worst   \n",
       "0         0.2419  ...         25.38          17.33           184.60  \\\n",
       "1         0.1812  ...         24.99          23.41           158.80   \n",
       "2         0.2069  ...         23.57          25.53           152.50   \n",
       "3         0.2597  ...         14.91          26.50            98.87   \n",
       "4         0.1809  ...         22.54          16.67           152.20   \n",
       "\n",
       "   area_worst  smoothness_worst  compactness_worst  concavity_worst   \n",
       "0      2019.0            0.1622             0.6656           0.7119  \\\n",
       "1      1956.0            0.1238             0.1866           0.2416   \n",
       "2      1709.0            0.1444             0.4245           0.4504   \n",
       "3       567.7            0.2098             0.8663           0.6869   \n",
       "4      1575.0            0.1374             0.2050           0.4000   \n",
       "\n",
       "   concave points_worst  symmetry_worst  fractal_dimension_worst  \n",
       "0                0.2654          0.4601                  0.11890  \n",
       "1                0.1860          0.2750                  0.08902  \n",
       "2                0.2430          0.3613                  0.08758  \n",
       "3                0.2575          0.6638                  0.17300  \n",
       "4                0.1625          0.2364                  0.07678  \n",
       "\n",
       "[5 rows x 31 columns]"
      ]
     },
     "execution_count": 235,
     "metadata": {},
     "output_type": "execute_result"
    }
   ],
   "source": [
    "# Drop the NaN columns and the id column\n",
    "df.drop(['Unnamed: 32', 'id'], axis=1, inplace=True)\n",
    "df.head()"
   ]
  },
  {
   "cell_type": "markdown",
   "metadata": {},
   "source": [
    "Choose the columns"
   ]
  },
  {
   "cell_type": "code",
   "execution_count": 236,
   "metadata": {},
   "outputs": [],
   "source": [
    "target_col=['diagnosis']\n",
    "feature_cols=df.drop('diagnosis', axis=1).columns"
   ]
  },
  {
   "cell_type": "markdown",
   "metadata": {},
   "source": [
    "Get the data from the columns"
   ]
  },
  {
   "cell_type": "code",
   "execution_count": 237,
   "metadata": {},
   "outputs": [],
   "source": [
    "X=df[feature_cols]\n",
    "y=df[target_col]"
   ]
  },
  {
   "cell_type": "markdown",
   "metadata": {},
   "source": [
    "Split the data into train/test"
   ]
  },
  {
   "cell_type": "code",
   "execution_count": 238,
   "metadata": {},
   "outputs": [],
   "source": [
    "X_train, X_test, y_train, y_test = train_test_split(X, y, test_size=0.2, random_state=0)"
   ]
  },
  {
   "cell_type": "markdown",
   "metadata": {},
   "source": [
    "Get all the different combination using arrays"
   ]
  },
  {
   "cell_type": "code",
   "execution_count": 239,
   "metadata": {},
   "outputs": [],
   "source": [
    "criterion=['gini', 'entropy','log_loss']\n",
    "max_depth=[None,3,5]\n",
    "min_samples_leaf=[1,5,10]\n",
    "rs=0"
   ]
  },
  {
   "cell_type": "markdown",
   "metadata": {},
   "source": [
    "* 1.Find the best model\n"
   ]
  },
  {
   "cell_type": "markdown",
   "metadata": {},
   "source": [
    "* 2.Print all the models "
   ]
  },
  {
   "cell_type": "code",
   "execution_count": 240,
   "metadata": {},
   "outputs": [
    {
     "name": "stdout",
     "output_type": "stream",
     "text": [
      "╒═════════════╤═════════════╤════════════════════╤════════════╕\n",
      "│ Criterion   │   Max Depth │   Min Samples Leaf │   Accuracy │\n",
      "╞═════════════╪═════════════╪════════════════════╪════════════╡\n",
      "│ gini        │           3 │                  5 │   0.973684 │\n",
      "├─────────────┼─────────────┼────────────────────┼────────────┤\n",
      "│ gini        │             │                 10 │   0.964912 │\n",
      "├─────────────┼─────────────┼────────────────────┼────────────┤\n",
      "│ gini        │           3 │                  1 │   0.964912 │\n",
      "├─────────────┼─────────────┼────────────────────┼────────────┤\n",
      "│ gini        │           3 │                 10 │   0.964912 │\n",
      "├─────────────┼─────────────┼────────────────────┼────────────┤\n",
      "│ gini        │           5 │                 10 │   0.964912 │\n",
      "├─────────────┼─────────────┼────────────────────┼────────────┤\n",
      "│ gini        │             │                  5 │   0.947368 │\n",
      "├─────────────┼─────────────┼────────────────────┼────────────┤\n",
      "│ gini        │           5 │                  1 │   0.947368 │\n",
      "├─────────────┼─────────────┼────────────────────┼────────────┤\n",
      "│ gini        │           5 │                  5 │   0.947368 │\n",
      "├─────────────┼─────────────┼────────────────────┼────────────┤\n",
      "│ entropy     │             │                 10 │   0.947368 │\n",
      "├─────────────┼─────────────┼────────────────────┼────────────┤\n",
      "│ entropy     │           3 │                  1 │   0.947368 │\n",
      "├─────────────┼─────────────┼────────────────────┼────────────┤\n",
      "│ entropy     │           3 │                  5 │   0.947368 │\n",
      "├─────────────┼─────────────┼────────────────────┼────────────┤\n",
      "│ entropy     │           3 │                 10 │   0.947368 │\n",
      "├─────────────┼─────────────┼────────────────────┼────────────┤\n",
      "│ entropy     │           5 │                 10 │   0.947368 │\n",
      "├─────────────┼─────────────┼────────────────────┼────────────┤\n",
      "│ log_loss    │             │                 10 │   0.947368 │\n",
      "├─────────────┼─────────────┼────────────────────┼────────────┤\n",
      "│ log_loss    │           3 │                  1 │   0.947368 │\n",
      "├─────────────┼─────────────┼────────────────────┼────────────┤\n",
      "│ log_loss    │           3 │                  5 │   0.947368 │\n",
      "├─────────────┼─────────────┼────────────────────┼────────────┤\n",
      "│ log_loss    │           3 │                 10 │   0.947368 │\n",
      "├─────────────┼─────────────┼────────────────────┼────────────┤\n",
      "│ log_loss    │           5 │                 10 │   0.947368 │\n",
      "├─────────────┼─────────────┼────────────────────┼────────────┤\n",
      "│ entropy     │             │                  5 │   0.938596 │\n",
      "├─────────────┼─────────────┼────────────────────┼────────────┤\n",
      "│ entropy     │           5 │                  5 │   0.938596 │\n",
      "├─────────────┼─────────────┼────────────────────┼────────────┤\n",
      "│ log_loss    │             │                  5 │   0.938596 │\n",
      "├─────────────┼─────────────┼────────────────────┼────────────┤\n",
      "│ log_loss    │           5 │                  5 │   0.938596 │\n",
      "├─────────────┼─────────────┼────────────────────┼────────────┤\n",
      "│ entropy     │             │                  1 │   0.929825 │\n",
      "├─────────────┼─────────────┼────────────────────┼────────────┤\n",
      "│ log_loss    │             │                  1 │   0.929825 │\n",
      "├─────────────┼─────────────┼────────────────────┼────────────┤\n",
      "│ entropy     │           5 │                  1 │   0.921053 │\n",
      "├─────────────┼─────────────┼────────────────────┼────────────┤\n",
      "│ log_loss    │           5 │                  1 │   0.921053 │\n",
      "├─────────────┼─────────────┼────────────────────┼────────────┤\n",
      "│ gini        │             │                  1 │   0.912281 │\n",
      "╘═════════════╧═════════════╧════════════════════╧════════════╛\n"
     ]
    }
   ],
   "source": [
    "modelsDTC = []\n",
    "best_tree={'accuracy':-1,\"model\":None}\n",
    "\n",
    "for c in criterion:\n",
    "    for md in max_depth:\n",
    "        for msl in min_samples_leaf:\n",
    "            dtc = DecisionTreeClassifier(criterion=c, max_depth=md, min_samples_leaf=msl, random_state=rs) \n",
    "            dtc.fit(X_train, y_train)\n",
    "            \n",
    "            # Predict on the test set\n",
    "            y_pred = dtc.predict(X_test)\n",
    "            \n",
    "            # Calculate the accuracy\n",
    "            accuracy = accuracy_score(y_test, y_pred)\n",
    "            \n",
    "            # Find the best model\n",
    "            if accuracy>best_tree['accuracy']:\n",
    "                best_tree={'accuracy':accuracy,\"model\":dtc}\n",
    "            \n",
    "            # Append the model into a list\n",
    "            modelsDTC.append([dtc,c, md, msl, accuracy])\n",
    "\n",
    "# Sort the model by accuracy\n",
    "modelsDTC.sort(key=lambda x: x[4],reverse=True)\n",
    "\n",
    "# Print the models\n",
    "# The empty slots are None values\n",
    "# modelToDisplay=modelsDTC[0:][0:][1:]\n",
    "print(tabulate([(c, md, msl, accuracy) for (_, c, md, msl, accuracy) in modelsDTC], tablefmt='fancy_grid', headers=['Criterion', 'Max Depth', 'Min Samples Leaf', 'Accuracy']))"
   ]
  },
  {
   "cell_type": "code",
   "execution_count": 241,
   "metadata": {},
   "outputs": [
    {
     "data": {
      "text/plain": [
       "[Text(0.5, 0.875, 'x[27] <= 0.142\\ngini = 0.462\\nsamples = 455\\nvalue = [290, 165]\\nclass = Malignant'),\n",
       " Text(0.25, 0.625, 'x[23] <= 957.45\\ngini = 0.146\\nsamples = 303\\nvalue = [279, 24]\\nclass = Malignant'),\n",
       " Text(0.125, 0.375, 'x[22] <= 107.75\\ngini = 0.073\\nsamples = 288\\nvalue = [277, 11]\\nclass = Malignant'),\n",
       " Text(0.0625, 0.125, 'gini = 0.036\\nsamples = 269\\nvalue = [264, 5]\\nclass = Malignant'),\n",
       " Text(0.1875, 0.125, 'gini = 0.432\\nsamples = 19\\nvalue = [13, 6]\\nclass = Malignant'),\n",
       " Text(0.375, 0.375, 'x[29] <= 0.065\\ngini = 0.231\\nsamples = 15\\nvalue = [2, 13]\\nclass = Benign'),\n",
       " Text(0.3125, 0.125, 'gini = 0.48\\nsamples = 5\\nvalue = [2, 3]\\nclass = Benign'),\n",
       " Text(0.4375, 0.125, 'gini = 0.0\\nsamples = 10\\nvalue = [0, 10]\\nclass = Benign'),\n",
       " Text(0.75, 0.625, 'x[23] <= 729.55\\ngini = 0.134\\nsamples = 152\\nvalue = [11, 141]\\nclass = Benign'),\n",
       " Text(0.625, 0.375, 'x[4] <= 0.108\\ngini = 0.49\\nsamples = 14\\nvalue = [8, 6]\\nclass = Malignant'),\n",
       " Text(0.5625, 0.125, 'gini = 0.0\\nsamples = 8\\nvalue = [8, 0]\\nclass = Malignant'),\n",
       " Text(0.6875, 0.125, 'gini = 0.0\\nsamples = 6\\nvalue = [0, 6]\\nclass = Benign'),\n",
       " Text(0.875, 0.375, 'x[13] <= 24.89\\ngini = 0.043\\nsamples = 138\\nvalue = [3, 135]\\nclass = Benign'),\n",
       " Text(0.8125, 0.125, 'gini = 0.355\\nsamples = 13\\nvalue = [3, 10]\\nclass = Benign'),\n",
       " Text(0.9375, 0.125, 'gini = 0.0\\nsamples = 125\\nvalue = [0, 125]\\nclass = Benign')]"
      ]
     },
     "execution_count": 241,
     "metadata": {},
     "output_type": "execute_result"
    },
    {
     "data": {
      "image/png": "[encoded data removed]",
      "text/plain": [
       "<Figure size 640x480 with 1 Axes>"
      ]
     },
     "metadata": {},
     "output_type": "display_data"
    }
   ],
   "source": [
    "# Plot the tree of the best model\n",
    "tree.plot_tree(best_tree['model'], filled=True, class_names=['Malignant', 'Benign'])"
   ]
  },
  {
   "cell_type": "markdown",
   "metadata": {},
   "source": [
    "# Random Forest Classifier"
   ]
  },
  {
   "cell_type": "code",
   "execution_count": 242,
   "metadata": {},
   "outputs": [],
   "source": [
    "n_estimators= [50, 100, 200]\n",
    "criterion= [\"gini\", \"entropy\", \"log_loss\"]\n",
    "min_samples_split= [2, 5, 10]\n",
    "rs=0\n",
    "modelsRFC=[]"
   ]
  },
  {
   "cell_type": "code",
   "execution_count": null,
   "metadata": {},
   "outputs": [],
   "source": [
    "for ne in n_estimators:\n",
    "    for c in criterion:\n",
    "        for mss in min_samples_split:\n",
    "            rfc = RandomForestClassifier(n_estimators=ne, criterion=c, min_samples_split=mss, random_state=rs) \n",
    "            rfc.fit(X_train, y_train)\n",
    "            \n",
    "            # Predict on the test set\n",
    "            y_pred = rfc.predict(X_test)\n",
    "            \n",
    "            # Calculate the accuracy\n",
    "            accuracy = accuracy_score(y_test, y_pred)\n",
    "            \n",
    "            # Append the model\n",
    "            modelsRFC.append([rfc,ne, c, mss, accuracy])\n",
    "            "
   ]
  },
  {
   "cell_type": "code",
   "execution_count": 244,
   "metadata": {},
   "outputs": [
    {
     "name": "stdout",
     "output_type": "stream",
     "text": [
      "╒════════════════╤═════════════╤═════════════════════╤════════════╕\n",
      "│   N_Estimators │ Criterion   │   Min Samples Split │   Accuracy │\n",
      "╞════════════════╪═════════════╪═════════════════════╪════════════╡\n",
      "│             50 │ gini        │                   2 │   0.973684 │\n",
      "├────────────────┼─────────────┼─────────────────────┼────────────┤\n",
      "│             50 │ gini        │                   5 │   0.973684 │\n",
      "├────────────────┼─────────────┼─────────────────────┼────────────┤\n",
      "│             50 │ entropy     │                   2 │   0.973684 │\n",
      "├────────────────┼─────────────┼─────────────────────┼────────────┤\n",
      "│             50 │ entropy     │                   5 │   0.973684 │\n",
      "├────────────────┼─────────────┼─────────────────────┼────────────┤\n",
      "│             50 │ entropy     │                  10 │   0.973684 │\n",
      "├────────────────┼─────────────┼─────────────────────┼────────────┤\n",
      "│             50 │ log_loss    │                   2 │   0.973684 │\n",
      "├────────────────┼─────────────┼─────────────────────┼────────────┤\n",
      "│             50 │ log_loss    │                   5 │   0.973684 │\n",
      "├────────────────┼─────────────┼─────────────────────┼────────────┤\n",
      "│             50 │ log_loss    │                  10 │   0.973684 │\n",
      "├────────────────┼─────────────┼─────────────────────┼────────────┤\n",
      "│            100 │ entropy     │                   2 │   0.973684 │\n",
      "├────────────────┼─────────────┼─────────────────────┼────────────┤\n",
      "│            100 │ entropy     │                   5 │   0.973684 │\n",
      "├────────────────┼─────────────┼─────────────────────┼────────────┤\n",
      "│            100 │ entropy     │                  10 │   0.973684 │\n",
      "├────────────────┼─────────────┼─────────────────────┼────────────┤\n",
      "│            100 │ log_loss    │                   2 │   0.973684 │\n",
      "├────────────────┼─────────────┼─────────────────────┼────────────┤\n",
      "│            100 │ log_loss    │                   5 │   0.973684 │\n",
      "├────────────────┼─────────────┼─────────────────────┼────────────┤\n",
      "│            100 │ log_loss    │                  10 │   0.973684 │\n",
      "├────────────────┼─────────────┼─────────────────────┼────────────┤\n",
      "│            200 │ entropy     │                   2 │   0.973684 │\n",
      "├────────────────┼─────────────┼─────────────────────┼────────────┤\n",
      "│            200 │ entropy     │                  10 │   0.973684 │\n",
      "├────────────────┼─────────────┼─────────────────────┼────────────┤\n",
      "│            200 │ log_loss    │                   2 │   0.973684 │\n",
      "├────────────────┼─────────────┼─────────────────────┼────────────┤\n",
      "│            200 │ log_loss    │                  10 │   0.973684 │\n",
      "├────────────────┼─────────────┼─────────────────────┼────────────┤\n",
      "│            100 │ gini        │                   2 │   0.964912 │\n",
      "├────────────────┼─────────────┼─────────────────────┼────────────┤\n",
      "│            100 │ gini        │                   5 │   0.964912 │\n",
      "├────────────────┼─────────────┼─────────────────────┼────────────┤\n",
      "│            200 │ gini        │                   2 │   0.964912 │\n",
      "├────────────────┼─────────────┼─────────────────────┼────────────┤\n",
      "│            200 │ gini        │                   5 │   0.964912 │\n",
      "├────────────────┼─────────────┼─────────────────────┼────────────┤\n",
      "│            200 │ entropy     │                   5 │   0.964912 │\n",
      "├────────────────┼─────────────┼─────────────────────┼────────────┤\n",
      "│            200 │ log_loss    │                   5 │   0.964912 │\n",
      "├────────────────┼─────────────┼─────────────────────┼────────────┤\n",
      "│             50 │ gini        │                  10 │   0.95614  │\n",
      "├────────────────┼─────────────┼─────────────────────┼────────────┤\n",
      "│            100 │ gini        │                  10 │   0.95614  │\n",
      "├────────────────┼─────────────┼─────────────────────┼────────────┤\n",
      "│            200 │ gini        │                  10 │   0.95614  │\n",
      "╘════════════════╧═════════════╧═════════════════════╧════════════╛\n"
     ]
    }
   ],
   "source": [
    "# Sort the model by accuracy\n",
    "modelsRFC.sort(key=lambda x: x[4],reverse=True)\n",
    "# Print the models\n",
    "print(tabulate([(ne, c, mss, accuracy) for (_, ne, c, mss, accuracy) in modelsRFC], tablefmt='fancy_grid', headers=['N_Estimators','Criterion','Min Samples Split','Accuracy']))"
   ]
  },
  {
   "cell_type": "markdown",
   "metadata": {},
   "source": [
    "# Random Forest Classifier\n",
    "\n",
    "**Criterion** : Ο τρόπος με τον οποίο το δέντρο μετράει την ποιότητα των διαιρέσεων κατα την διάρκεια της κατασκευής του δέντρου.\n",
    "\n",
    "**N_estimator** : Ο αριθμός των δέντρων σε ενα δάσος, δηλαδή πόσα δέντρα θα δημιουργηθούν για να παίρνουν αποφάσεις.\n",
    "\n",
    "**min_samples_split** : Ο ελάχιστος αριθμός δειγμάτων που θα πρέπει να χρησιμοποιηθούν για να χωρίστει ένας κόμβος δηλαδή πόσα δείγματα θα πρέπει να υπάρχουν σε ένα κόμβο ώστε αυτός να διαιρεθεί."
   ]
  },
  {
   "cell_type": "markdown",
   "metadata": {},
   "source": [
    "# Decision Tree Classifier\n",
    "\n",
    "**Criterion** :  Ο τρόπος με τον οποίο το δέντρο μετράει την ποιότητα των διαιρέσεων κατα την διάρκεια της κατασκευής του δέντρου.\n",
    "\n",
    "**Max Depth** : Το μέγιστο βάθος που μπορεί να έχει ένα δέντρο.\n",
    "\n",
    "**Min Samples Leaf** : Ο ελάχιστος αριθμός δειγμάτων που πρέπει να υπάρχουν σε ένα τερματικό κόμβο."
   ]
  },
  {
   "cell_type": "markdown",
   "metadata": {},
   "source": [
    "# Plot target bar"
   ]
  },
  {
   "cell_type": "code",
   "execution_count": 245,
   "metadata": {},
   "outputs": [
    {
     "data": {
      "text/plain": [
       "<Axes: xlabel='diagnosis'>"
      ]
     },
     "execution_count": 245,
     "metadata": {},
     "output_type": "execute_result"
    },
    {
     "data": {
      "image/png": "[encoded data removed]",
      "text/plain": [
       "<Figure size 640x480 with 1 Axes>"
      ]
     },
     "metadata": {},
     "output_type": "display_data"
    }
   ],
   "source": [
    "df['diagnosis'].value_counts().plot(kind='bar')"
   ]
  },
  {
   "cell_type": "markdown",
   "metadata": {},
   "source": [
    "##### Τί παρατηρείτε για τα targets? \n",
    "\n",
    "Υπάρχουν περισσότεροι στόχοι που ανήκουν στην κατηγορία \"Καλοήθη\" από ό,τι στην κατηγορία \"Κακοήθη\"."
   ]
  },
  {
   "cell_type": "markdown",
   "metadata": {},
   "source": [
    "##### Αν φτιάξω classifier ο οποίος θεωρεί (χωρίς καμία εκπαίδευση) ότι όλα τα παραδείγματα ολόκληρου του dataset είναι Malignant, τι ακρίβεια θα πετύχω? \n",
    "\n",
    "* Αν κάνουμε προβλέψεις χρησιμοποιώντας το Κακοήθη ως απάντηση για όλες τις περιπτώσεις, θα επιτύχουμε ακρίβεια **41.23%**.\n",
    "\n",
    "* Αν κάνουμε προβλέψεις χρησιμοποιώντας το Καλοήθη ως απάντηση για όλες τις περιπτώσεις, θα επιτύχουμε ακρίβεια **58.77%**."
   ]
  },
  {
   "cell_type": "code",
   "execution_count": 246,
   "metadata": {},
   "outputs": [
    {
     "name": "stdout",
     "output_type": "stream",
     "text": [
      "Accuracy for Malignant: 0.41228070175438597\n"
     ]
    }
   ],
   "source": [
    "# Make a simplified prediction using M for all values\n",
    "y_pred_simplified=['M' for y_test in y_test['diagnosis']]\n",
    "# Calculate and print the accuracy \n",
    "print(f\"Accuracy for Malignant: {accuracy_score(y_test, y_pred_simplified)}\")"
   ]
  },
  {
   "cell_type": "markdown",
   "metadata": {},
   "source": [
    "##### Θεωρείτε ότι είναι καλά αυτά τα δεδομένα για την εκπαίδευση ενός classifier για αναγνώριση του καρκίνου? Αιτιολογείστε\n"
   ]
  },
  {
   "cell_type": "markdown",
   "metadata": {},
   "source": [
    "* Πιστεύω πως 569 δεδομένα είναι λίγα για την εκπαίδευση οποιουδήποτε classifier\n",
    "\n",
    "* Ακόμα βλέπουμε οτί υπάρχουν περισσότερα Καλοήθη δεδομένα, αυτό μπορεί να προκαλέσει λάθος προβλέψεις δίνοντας περισσότερες απαντήσεις ως Καλοήθη.\n"
   ]
  },
  {
   "cell_type": "markdown",
   "metadata": {},
   "source": [
    "# 8 of the best Decision & Random Forest"
   ]
  },
  {
   "cell_type": "markdown",
   "metadata": {},
   "source": [
    "##### The 8 best was all Random Forest so i will take 4 Decision Tree and 4 Random Forest"
   ]
  },
  {
   "cell_type": "code",
   "execution_count": 247,
   "metadata": {},
   "outputs": [
    {
     "data": {
      "text/plain": [
       "<matplotlib.collections.PathCollection at 0x1ddfc4d3350>"
      ]
     },
     "execution_count": 247,
     "metadata": {},
     "output_type": "execute_result"
    },
    {
     "data": {
      "image/png": "[encoded data removed]",
      "text/plain": [
       "<Figure size 640x480 with 1 Axes>"
      ]
     },
     "metadata": {},
     "output_type": "display_data"
    }
   ],
   "source": [
    "# Get the 8 best models, 4 each\n",
    "bestmodels = [i for i in modelsDTC[:4]]\n",
    "bestmodels.extend([ j for j in modelsRFC[:4]])\n",
    "\n",
    "# get the id and accuracy of each model\n",
    "id,accuracy = zip(*[(id+1, model[4]) for id, model in enumerate(bestmodels)])\n",
    "\n",
    "# use different colors for each model\n",
    "colors = plt.cm.rainbow(np.linspace(0, 1, len(id)))\n",
    "\n",
    "# plot the scatter\n",
    "plt.scatter(id,accuracy,c=colors,marker='o',s=100)"
   ]
  },
  {
   "cell_type": "code",
   "execution_count": 269,
   "metadata": {},
   "outputs": [
    {
     "data": {
      "image/png": "[encoded data removed]",
      "text/plain": [
       "<Figure size 640x480 with 1 Axes>"
      ]
     },
     "metadata": {},
     "output_type": "display_data"
    }
   ],
   "source": [
    "# get from the best model the best features\n",
    "features=[]\n",
    "for i,feature in enumerate(bestmodels[0][0].feature_importances_):\n",
    "    features.append( [ feature , X.columns[i] ] )\n",
    "    \n",
    "# sort the features by importance\n",
    "features.sort(key=lambda x: x[0],reverse=True)\n",
    "\n",
    "# Get the top 10 features\n",
    "top_feature_names = [feature[1] for feature in features[:10]]\n",
    "top_feature_importances = [feature[0] for feature in features[:10]]\n",
    "\n",
    "# plot the features\n",
    "plt.barh(top_feature_names, top_feature_importances)\n",
    "plt.xlabel(\"Feature Importance\")\n",
    "plt.ylabel(\"Feature\")\n",
    "plt.title(f\"Top 10 Most Important Features\")\n",
    "\n",
    "# invert to display the most important feature at the top\n",
    "plt.gca().invert_yaxis() \n",
    "\n",
    "# show the plot\n",
    "plt.show()"
   ]
  },
  {
   "cell_type": "code",
   "execution_count": 315,
   "metadata": {},
   "outputs": [],
   "source": [
    "MalignantY = y_test[y_test['diagnosis']=='M'].sample(1)\n",
    "BenignY  = y_test[y_test['diagnosis']=='B'].sample(1)\n",
    "\n",
    "MalignantX= X_test.loc[MalignantY.index[0]]\n",
    "BenignX= X_test.loc[BenignY.index[0]]"
   ]
  },
  {
   "cell_type": "code",
   "execution_count": 322,
   "metadata": {},
   "outputs": [
    {
     "name": "stdout",
     "output_type": "stream",
     "text": [
      "Malignant sample: 213\n",
      "radius_mean                  17.42000\n",
      "texture_mean                 25.56000\n",
      "perimeter_mean              114.50000\n",
      "area_mean                   948.00000\n",
      "smoothness_mean               0.10060\n",
      "compactness_mean              0.11460\n",
      "concavity_mean                0.16820\n",
      "concave points_mean           0.06597\n",
      "symmetry_mean                 0.13080\n",
      "fractal_dimension_mean        0.05866\n",
      "radius_se                     0.52960\n",
      "texture_se                    1.66700\n",
      "perimeter_se                  3.76700\n",
      "area_se                      58.53000\n",
      "smoothness_se                 0.03113\n",
      "compactness_se                0.08555\n",
      "concavity_se                  0.14380\n",
      "concave points_se             0.03927\n",
      "symmetry_se                   0.02175\n",
      "fractal_dimension_se          0.01256\n",
      "radius_worst                 18.07000\n",
      "texture_worst                28.07000\n",
      "perimeter_worst             120.40000\n",
      "area_worst                 1021.00000\n",
      "smoothness_worst              0.12430\n",
      "compactness_worst             0.17930\n",
      "concavity_worst               0.28030\n",
      "concave points_worst          0.10990\n",
      "symmetry_worst                0.16030\n",
      "fractal_dimension_worst       0.06818\n",
      "Name: 213, dtype: float64\n",
      "Actual diagnosis: M\n"
     ]
    }
   ],
   "source": [
    "# Print the Malignant sample\n",
    "print(f\"Malignant sample: {MalignantY.index[0]}\")\n",
    "print(MalignantX)\n",
    "print(f\"Actual diagnosis: {MalignantY['diagnosis'].values[0]}\")\n"
   ]
  },
  {
   "cell_type": "code",
   "execution_count": 323,
   "metadata": {},
   "outputs": [
    {
     "name": "stdout",
     "output_type": "stream",
     "text": [
      "Benign sample: 175\n",
      "radius_mean                  8.671000\n",
      "texture_mean                14.450000\n",
      "perimeter_mean              54.420000\n",
      "area_mean                  227.200000\n",
      "smoothness_mean              0.091380\n",
      "compactness_mean             0.042760\n",
      "concavity_mean               0.000000\n",
      "concave points_mean          0.000000\n",
      "symmetry_mean                0.172200\n",
      "fractal_dimension_mean       0.067240\n",
      "radius_se                    0.220400\n",
      "texture_se                   0.787300\n",
      "perimeter_se                 1.435000\n",
      "area_se                     11.360000\n",
      "smoothness_se                0.009172\n",
      "compactness_se               0.008007\n",
      "concavity_se                 0.000000\n",
      "concave points_se            0.000000\n",
      "symmetry_se                  0.027110\n",
      "fractal_dimension_se         0.003399\n",
      "radius_worst                 9.262000\n",
      "texture_worst               17.040000\n",
      "perimeter_worst             58.360000\n",
      "area_worst                 259.200000\n",
      "smoothness_worst             0.116200\n",
      "compactness_worst            0.070570\n",
      "concavity_worst              0.000000\n",
      "concave points_worst         0.000000\n",
      "symmetry_worst               0.259200\n",
      "fractal_dimension_worst      0.078480\n",
      "Name: 175, dtype: float64\n",
      "Actual diagnosis: B\n"
     ]
    }
   ],
   "source": [
    "# Print the Malignant sample\n",
    "print(f\"Benign sample: {BenignY.index[0]}\")\n",
    "print(BenignX)\n",
    "print(f\"Actual diagnosis: {BenignY['diagnosis'].values[0]}\")\n"
   ]
  },
  {
   "cell_type": "markdown",
   "metadata": {},
   "source": [
    "\n",
    "| Feature               | Benign     | Malignant   |\n",
    "|-----------------------|------------|-------------|\n",
    "| Perimeter Worst       | 58.360000  | 120.40000   |\n",
    "| Concave Points Worst  | 0.0000     | 0.10990     |\n",
    "| Smoothness Mean       | 0.091380   | 0.10060     |\n",
    "| Area Worst            | 259.200000 | 1021.00000  |\n",
    "\n",
    "\n",
    "Μπορούμε να δούμε στο **Benign** οι τιμες είναι αρκετά χαμηλότερες σε σχέση με το **Malignant** \n",
    "\n",
    "Οπότε φυσικό είναι να ανήκουν στην συγκεκριμένη κλάση αντίστοιχα.\n",
    "\n"
   ]
  }
 ],
 "metadata": {
  "kernelspec": {
   "display_name": "Python 3",
   "language": "python",
   "name": "python3"
  },
  "language_info": {
   "codemirror_mode": {
    "name": "ipython",
    "version": 3
   },
   "file_extension": ".py",
   "mimetype": "text/x-python",
   "name": "python",
   "nbconvert_exporter": "python",
   "pygments_lexer": "ipython3",
   "version": "3.11.3"
  }
 },
 "nbformat": 4,
 "nbformat_minor": 2
}
